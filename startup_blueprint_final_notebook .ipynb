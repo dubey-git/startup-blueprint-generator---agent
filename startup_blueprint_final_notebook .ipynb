{
  "cells": [
    {
      "cell_type": "markdown",
      "id": "7ed4f07e",
      "metadata": {
        "id": "7ed4f07e"
      },
      "source": [
        "# Startup Blueprint Generator Agent\n",
        "\n",
        "## Problem Statement  \n",
        "This system transforms raw startup ideas into complete, actionable business blueprints using **IBM Watsonx Granite model** and a **Retrieval-Augmented Generation (RAG)** approach.\n",
        "\n",
        "For this eg : An app that lets students rent textbooks peer-to-peer.\n",
        "\n",
        "It retrieves relevant data such as:\n",
        "- Market research\n",
        "- Funding options\n",
        "- Competitor analysis\n",
        "- Revenue models\n",
        "- Government schemes\n",
        "- Legal requirements\n",
        "\n",
        "## Technology Used\n",
        "- **IBM Watsonx API** (Granite-3-3-8b-instruct model)\n",
        "- Python\n",
        "- `.env` for secure credentials\n",
        "\n",
        "This project was implemented using IBM Watsonx AI’s Granite Large Language Models (LLMs) accessed via IBM Cloud API.\n",
        "The Python script connects to IBM’s hosted Granite model (granite-3-3-8b-instruct) using API credentials from an .env file, retrieves startup-related insights through prompt engineering, and writes a complete business plan to a text file.\n",
        "This approach aligns with IBM Cloud Lite services usage because the computation and model hosting occur on IBM’s cloud infrastructure; the local machine (or Google Colab) only sends requests and receives responses.\n",
        "No external non-IBM AI services were used in the final build.\n"
      ]
    },
    {
      "cell_type": "markdown",
      "id": "6fedc220",
      "metadata": {
        "id": "6fedc220"
      },
      "source": [
        "## Step 1: Install Dependencies\n",
        "We install the required Python packages to interact with IBM Watsonx."
      ]
    },
    {
      "cell_type": "code",
      "execution_count": null,
      "id": "9adf54a3",
      "metadata": {
        "colab": {
          "base_uri": "https://localhost:8080/"
        },
        "id": "9adf54a3",
        "outputId": "71ddc815-e4c2-4242-f73c-f7df8158368a"
      },
      "outputs": [
        {
          "output_type": "stream",
          "name": "stdout",
          "text": [
            "Requirement already satisfied: ibm-watsonx-ai in /usr/local/lib/python3.11/dist-packages (1.3.32)\n",
            "Requirement already satisfied: python-dotenv in /usr/local/lib/python3.11/dist-packages (1.1.1)\n",
            "Requirement already satisfied: requests in /usr/local/lib/python3.11/dist-packages (from ibm-watsonx-ai) (2.32.4)\n",
            "Requirement already satisfied: httpx<0.29,>=0.27 in /usr/local/lib/python3.11/dist-packages (from ibm-watsonx-ai) (0.28.1)\n",
            "Requirement already satisfied: urllib3 in /usr/local/lib/python3.11/dist-packages (from ibm-watsonx-ai) (2.5.0)\n",
            "Requirement already satisfied: pandas<2.3.0,>=0.24.2 in /usr/local/lib/python3.11/dist-packages (from ibm-watsonx-ai) (2.2.2)\n",
            "Requirement already satisfied: certifi in /usr/local/lib/python3.11/dist-packages (from ibm-watsonx-ai) (2025.8.3)\n",
            "Requirement already satisfied: lomond in /usr/local/lib/python3.11/dist-packages (from ibm-watsonx-ai) (0.3.3)\n",
            "Requirement already satisfied: tabulate in /usr/local/lib/python3.11/dist-packages (from ibm-watsonx-ai) (0.9.0)\n",
            "Requirement already satisfied: packaging in /usr/local/lib/python3.11/dist-packages (from ibm-watsonx-ai) (25.0)\n",
            "Requirement already satisfied: ibm-cos-sdk<2.15.0,>=2.12.0 in /usr/local/lib/python3.11/dist-packages (from ibm-watsonx-ai) (2.14.3)\n",
            "Requirement already satisfied: cachetools in /usr/local/lib/python3.11/dist-packages (from ibm-watsonx-ai) (5.5.2)\n",
            "Requirement already satisfied: anyio in /usr/local/lib/python3.11/dist-packages (from httpx<0.29,>=0.27->ibm-watsonx-ai) (4.10.0)\n",
            "Requirement already satisfied: httpcore==1.* in /usr/local/lib/python3.11/dist-packages (from httpx<0.29,>=0.27->ibm-watsonx-ai) (1.0.9)\n",
            "Requirement already satisfied: idna in /usr/local/lib/python3.11/dist-packages (from httpx<0.29,>=0.27->ibm-watsonx-ai) (3.10)\n",
            "Requirement already satisfied: h11>=0.16 in /usr/local/lib/python3.11/dist-packages (from httpcore==1.*->httpx<0.29,>=0.27->ibm-watsonx-ai) (0.16.0)\n",
            "Requirement already satisfied: ibm-cos-sdk-core==2.14.3 in /usr/local/lib/python3.11/dist-packages (from ibm-cos-sdk<2.15.0,>=2.12.0->ibm-watsonx-ai) (2.14.3)\n",
            "Requirement already satisfied: ibm-cos-sdk-s3transfer==2.14.3 in /usr/local/lib/python3.11/dist-packages (from ibm-cos-sdk<2.15.0,>=2.12.0->ibm-watsonx-ai) (2.14.3)\n",
            "Requirement already satisfied: jmespath<=1.0.1,>=0.10.0 in /usr/local/lib/python3.11/dist-packages (from ibm-cos-sdk<2.15.0,>=2.12.0->ibm-watsonx-ai) (1.0.1)\n",
            "Requirement already satisfied: python-dateutil<3.0.0,>=2.9.0 in /usr/local/lib/python3.11/dist-packages (from ibm-cos-sdk-core==2.14.3->ibm-cos-sdk<2.15.0,>=2.12.0->ibm-watsonx-ai) (2.9.0.post0)\n",
            "Requirement already satisfied: numpy>=1.23.2 in /usr/local/lib/python3.11/dist-packages (from pandas<2.3.0,>=0.24.2->ibm-watsonx-ai) (2.0.2)\n",
            "Requirement already satisfied: pytz>=2020.1 in /usr/local/lib/python3.11/dist-packages (from pandas<2.3.0,>=0.24.2->ibm-watsonx-ai) (2025.2)\n",
            "Requirement already satisfied: tzdata>=2022.7 in /usr/local/lib/python3.11/dist-packages (from pandas<2.3.0,>=0.24.2->ibm-watsonx-ai) (2025.2)\n",
            "Requirement already satisfied: charset_normalizer<4,>=2 in /usr/local/lib/python3.11/dist-packages (from requests->ibm-watsonx-ai) (3.4.2)\n",
            "Requirement already satisfied: six>=1.10.0 in /usr/local/lib/python3.11/dist-packages (from lomond->ibm-watsonx-ai) (1.17.0)\n",
            "Requirement already satisfied: sniffio>=1.1 in /usr/local/lib/python3.11/dist-packages (from anyio->httpx<0.29,>=0.27->ibm-watsonx-ai) (1.3.1)\n",
            "Requirement already satisfied: typing_extensions>=4.5 in /usr/local/lib/python3.11/dist-packages (from anyio->httpx<0.29,>=0.27->ibm-watsonx-ai) (4.14.1)\n"
          ]
        }
      ],
      "source": [
        "!pip install ibm-watsonx-ai python-dotenv"
      ]
    },
    {
      "cell_type": "markdown",
      "id": "292ce89a",
      "metadata": {
        "id": "292ce89a"
      },
      "source": [
        "## Step 2: Set Up Environment Variables\n",
        "Replace placeholders in the `.env` file with your actual IBM Cloud API credentials before running.\n",
        "\n",
        "\n",
        "# NOTE for reviewers:\n",
        "The actual IBM_API_KEY has been replaced with \"YOUR_API_KEY\" in this public notebook to avoid exposing sensitive credentials.\n",
        "To run this notebook, replace \"YOUR_API_KEY\" in the .env file with a valid key from your IBM Cloud account."
      ]
    },
    {
      "cell_type": "code",
      "execution_count": null,
      "id": "82f6740d",
      "metadata": {
        "colab": {
          "base_uri": "https://localhost:8080/"
        },
        "id": "82f6740d",
        "outputId": "5f05243a-5303-4f73-c46e-1c51192818d4"
      },
      "outputs": [
        {
          "output_type": "stream",
          "name": "stdout",
          "text": [
            "Overwriting .env\n"
          ]
        }
      ],
      "source": [
        "%%writefile .env\n",
        "IBM_API_KEY= \"YOUR_API_KEY\"\n",
        "PROJECT_ID=f4fe3f58-8d9d-43ba-b45c-3b6bcabca8c8\n",
        "REGION=us-south\n",
        "MODEL_ID=ibm/granite-3-3-8b-instruct\n",
        "URL=https://us-south.ml.cloud.ibm.com"
      ]
    },
    {
      "cell_type": "markdown",
      "id": "1b89070c",
      "metadata": {
        "id": "1b89070c"
      },
      "source": [
        "## Step 3: Import Libraries and Load Environment Variables"
      ]
    },
    {
      "cell_type": "code",
      "execution_count": null,
      "id": "8b5e9a06",
      "metadata": {
        "id": "8b5e9a06"
      },
      "outputs": [],
      "source": [
        "import os\n",
        "from ibm_watsonx_ai.foundation_models import ModelInference\n",
        "from ibm_watsonx_ai.credentials import Credentials\n",
        "from dotenv import load_dotenv\n",
        "\n",
        "load_dotenv()\n",
        "\n",
        "API_KEY = os.getenv(\"IBM_API_KEY\")\n",
        "REGION = os.getenv(\"REGION\")\n",
        "MODEL_ID = os.getenv(\"MODEL_ID\")\n",
        "PROJECT_ID = os.getenv(\"PROJECT_ID\")\n",
        "\n",
        "creds = Credentials(\n",
        "    api_key=API_KEY,\n",
        "    url=f\"https://{REGION}.ml.cloud.ibm.com\"\n",
        ")\n",
        "\n",
        "model = ModelInference(\n",
        "    model_id=MODEL_ID,\n",
        "    credentials=creds,\n",
        "    project_id=PROJECT_ID\n",
        ")"
      ]
    },
    {
      "cell_type": "markdown",
      "id": "dee1a302",
      "metadata": {
        "id": "dee1a302"
      },
      "source": [
        "## Step 4: Define Startup Idea and Sections\n",
        "We will collect the idea from the user and define the sections for the business plan."
      ]
    },
    {
      "cell_type": "code",
      "execution_count": null,
      "id": "6e86fb76",
      "metadata": {
        "colab": {
          "base_uri": "https://localhost:8080/"
        },
        "id": "6e86fb76",
        "outputId": "663e4026-e5da-4001-dc15-d524b90cbc04"
      },
      "outputs": [
        {
          "name": "stdout",
          "output_type": "stream",
          "text": [
            "Enter your startup idea: An app that lets students rent textbooks peer-to-peer.\n"
          ]
        }
      ],
      "source": [
        "idea = input(\"Enter your startup idea: \")\n",
        "\n",
        "sections = [\n",
        "    \"Market Opportunity\",\n",
        "    \"Business Model\",\n",
        "    \"Estimated Budget\",\n",
        "    \"Go-to-Market Strategy\",\n",
        "    \"Potential Competitors\",\n",
        "    \"Revenue Streams\",\n",
        "    \"Risks and Challenges\",\n",
        "    \"Key Performance Indicators (KPIs)\"\n",
        "]\n",
        "\n",
        "with open(\"output.txt\", \"w\") as f:\n",
        "    f.write(f\"📦 Startup Blueprint for: {idea}\\n\\n\")\n"
      ]
    },
    {
      "cell_type": "markdown",
      "id": "99f82335",
      "metadata": {
        "id": "99f82335"
      },
      "source": [
        "## Step 5: Generate Each Section Using IBM Granite"
      ]
    },
    {
      "cell_type": "code",
      "execution_count": null,
      "id": "fb259da1",
      "metadata": {
        "colab": {
          "base_uri": "https://localhost:8080/"
        },
        "id": "fb259da1",
        "outputId": "c0da9f98-1c40-4e93-c056-1ce0239efac5"
      },
      "outputs": [
        {
          "output_type": "stream",
          "name": "stdout",
          "text": [
            "\n",
            "=== Market Opportunity ===\n",
            "**Market Opportunity**\n",
            "\n",
            "The global textbook market is valued in the billions annually, with students often facing high costs for purchasing new books. A peer-to-peer textbook rental platform can significantly reduce expenses for students while also promoting sustainability by extending the life of books. Universities and colleges present a concentrated and easily targetable user base, ensuring a strong initial adoption potential. With increasing internet penetration and the normalization of app-based services, the timing is ideal for launching such a solution.\n",
            "✅ Market Opportunity written.\n",
            "\n",
            "=== Business Model ===\n",
            "**Business Model**\n",
            "\n",
            "1. **Value Proposition** – Affordable and eco-friendly access to textbooks for students through peer-to-peer rentals.\n",
            "2. **Customer Segments** – Primary: College and university students. Secondary: Independent learners and academic institutions.\n",
            "3. **Channels** – Mobile app, campus ambassador programs, and partnerships with student organizations.\n",
            "4. **Revenue Model** – Rental transaction fees, premium subscriptions for unlimited rentals, and optional late fee charges.\n",
            "5. **Key Partnerships** – Campus bookstores, student unions, delivery/logistics providers.\n",
            "6. **Cost Structure** – Platform development & maintenance, customer support, marketing, and logistics partnerships.\n",
            "✅ Business Model written.\n",
            "\n",
            "=== Estimated Budget ===\n",
            "**Estimated Budget**\n",
            "\n",
            "1. **Platform Development** – $15,000 – Initial app and backend system development.\n",
            "2. **Marketing & Outreach** – $5,000 – Campus ambassador programs, online ads, and social media campaigns.\n",
            "3. **Operations & Support** – $3,000 – Customer support tools and moderation.\n",
            "4. **Hosting & Maintenance** – $2,000 – Cloud hosting and security.\n",
            "**Total Estimated Initial Budget:** $25,000\n",
            "✅ Estimated Budget written.\n",
            "\n",
            "=== Go-to-Market Strategy ===\n",
            "**Go-to-Market Strategy**\n",
            "\n",
            "1. **Target Market Identification** – Focus on students in metropolitan areas with large university populations.\n",
            "2. **Launch Plan** – Begin with pilot programs in 3 universities to gather feedback and build trust.\n",
            "3. **Marketing Tactics** – Leverage campus ambassadors, social media influencers, and targeted ads.\n",
            "4. **Growth Strategy** – Introduce referral bonuses, seasonal promotions, and expand to multiple cities within 12 months.\n",
            "5. **Retention Plan** – Regular app updates, loyalty points for frequent users, and exclusive discounts.\n",
            "✅ Go-to-Market Strategy written.\n",
            "\n",
            "=== Potential Competitors ===\n",
            "**Potential Competitors**\n",
            "\n",
            "1. **Chegg** – Large online rental platform, but more expensive and less localized.\n",
            "2. **Amazon Textbook Rentals** – Wide selection but lacks community focus.\n",
            "3. **Campus Bookstores** – Often limited to specific institutions and higher prices.\n",
            "4. **Facebook Marketplace** – Informal option, but lacks security and structured rental management.\n",
            "**Competitive Advantage:** Our platform focuses exclusively on verified students, offering secure transactions, and campus-specific targeting.\n",
            "✅ Potential Competitors written.\n",
            "\n",
            "=== Revenue Streams ===\n",
            "**Revenue Streams**\n",
            "\n",
            "1. **Transaction Fees** – 10–15% commission per rental.\n",
            "2. **Premium Subscription** – Monthly fee for unlimited rentals and free delivery.\n",
            "3. **Late Fees** – Additional income from overdue returns.\n",
            "4. **Advertising Partnerships** – Collaborations with stationery brands, online learning platforms, and student service providers.\n",
            "✅ Revenue Streams written.\n",
            "\n",
            "=== Risks and Challenges ===\n",
            "**Risks and Challenges**\n",
            "\n",
            "1. **Competition from Established Platforms** – Risk of being overshadowed by big players.\n",
            "2. **User Trust & Safety** – Managing disputes and ensuring timely returns.\n",
            "3. **Logistics & Delivery** – Ensuring smooth pickup and drop-off between students.\n",
            "4. **Market Adoption** – Convincing students to switch from buying to renting.\n",
            "5. **Regulatory Compliance** – Handling taxation and marketplace regulations.\n",
            "✅ Risks and Challenges written.\n",
            "\n",
            "=== Key Performance Indicators (KPIs) ===\n",
            "**Key Performance Indicators (KPIs)**\n",
            "\n",
            "1. **User Acquisition KPIs** – New sign-ups per month, active campus coverage.\n",
            "2. **Engagement KPIs** – Average rentals per user, repeat user percentage.\n",
            "3. **Revenue KPIs** – Monthly recurring revenue, transaction volume.\n",
            "4. **Operational KPIs** – On-time returns, dispute resolution time.\n",
            "5. **Growth KPIs** – Number of universities onboarded, geographic expansion rate.\n",
            "✅ Key Performance Indicators (KPIs) written.\n"
          ]
        }
      ],
      "source": [
        "from time import sleep\n",
        "\n",
        "def safe_generate(prompt, max_tokens=1500):\n",
        "    \"\"\"Generate text with optional max_tokens if supported.\"\"\"\n",
        "    try:\n",
        "        return model.generate_text(prompt, max_new_tokens=max_tokens, temperature=0.7)\n",
        "    except TypeError:\n",
        "        return model.generate_text(prompt)\n",
        "\n",
        "for section in sections:\n",
        "    base_prompt = f\"Generate the '{section}' section of a startup business plan for this idea: {idea}. Be detailed, structured, and complete.\"\n",
        "    try:\n",
        "        # 1. First attempt\n",
        "        response = safe_generate(base_prompt)\n",
        "        if not isinstance(response, str):\n",
        "            response = str(response)\n",
        "        full_text = response.strip()\n",
        "\n",
        "        # 2. Try continuation if output looks incomplete\n",
        "        for _ in range(4):  # up to 4 extra chunks\n",
        "            if len(full_text.split()) < 120 or full_text[-1] not in \".!?\\\"'\":\n",
        "                cont_prompt = (\n",
        "                    f\"You are writing the '{section}' section of the startup business plan \"\n",
        "                    f\"for the idea: {idea}.\\n\\nHere is what you have so far:\\n{full_text}\\n\\n\"\n",
        "                    \"Continue directly from the last sentence, without repeating anything, \"\n",
        "                    \"until the section is fully complete. Stay 100% on topic.\"\n",
        "                )\n",
        "                cont_chunk = safe_generate(cont_prompt, max_tokens=1000).strip()\n",
        "                if not cont_chunk or cont_chunk in full_text:\n",
        "                    break\n",
        "                full_text += \" \" + cont_chunk\n",
        "                sleep(0.3)\n",
        "            else:\n",
        "                break\n",
        "\n",
        "        # 3. Save\n",
        "        print(f\"\\n\\n=== {section} ===\\n{full_text}\\n\")\n",
        "        with open(\"output.txt\", \"a\") as f:\n",
        "            f.write(f\"\\n\\n{section}:\\n{full_text}\\n\")\n",
        "        print(f\"✅ {section} written.\")\n",
        "\n",
        "    except Exception as e:\n",
        "        print(f\"❌ Error in {section}: {e}\")"
      ]
    }
  ],
  "metadata": {
    "colab": {
      "provenance": []
    },
    "language_info": {
      "name": "python"
    },
    "kernelspec": {
      "name": "python3",
      "display_name": "Python 3"
    }
  },
  "nbformat": 4,
  "nbformat_minor": 5
}